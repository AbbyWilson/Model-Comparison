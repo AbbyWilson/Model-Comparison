{
 "cells": [
  {
   "cell_type": "markdown",
   "metadata": {},
   "source": [
    "# Practical Application III: Comparing Classifiers\n",
    "\n",
    "**Overview**: In this practical application, your goal is to compare the performance of the classifiers we encountered in this section, namely K Nearest Neighbor, Logistic Regression, Decision Trees, and Support Vector Machines.  We will utilize a dataset related to marketing bank products over the telephone.  \n",
    "\n"
   ]
  },
  {
   "cell_type": "markdown",
   "metadata": {},
   "source": [
    "### Getting Started\n",
    "\n",
    "Our dataset comes from the UCI Machine Learning repository [link](https://archive.ics.uci.edu/ml/datasets/bank+marketing).  The data is from a Portugese banking institution and is a collection of the results of multiple marketing campaigns.  We will make use of the article accompanying the dataset [here](CRISP-DM-BANK.pdf) for more information on the data and features.\n",
    "\n"
   ]
  },
  {
   "cell_type": "markdown",
   "metadata": {},
   "source": [
    "### Problem 1: Understanding the Data\n",
    "\n",
    "To gain a better understanding of the data, please read the information provided in the UCI link above, and examine the **Materials and Methods** section of the paper.  How many marketing campaigns does this data represent?"
   ]
  },
  {
   "cell_type": "markdown",
   "metadata": {},
   "source": [
    "Answer: There are 41188 marketing campaigns in the full dataset. "
   ]
  },
  {
   "cell_type": "markdown",
   "metadata": {},
   "source": [
    "### Problem 2: Read in the Data\n",
    "\n",
    "Use pandas to read in the dataset `bank-additional-full.csv` and assign to a meaningful variable name."
   ]
  },
  {
   "cell_type": "code",
   "execution_count": 112,
   "metadata": {},
   "outputs": [],
   "source": [
    "import pandas as pd\n",
    "import seaborn as sns\n",
    "import numpy as np\n",
    "import matplotlib.pyplot as plt\n",
    "import warnings\n",
    "warnings.filterwarnings(\"ignore\")\n",
    "import time\n",
    "from sklearn.datasets import load_breast_cancer\n",
    "from sklearn.svm import SVC\n",
    "from sklearn.neighbors import KNeighborsClassifier\n",
    "from sklearn.inspection import PartialDependenceDisplay, partial_dependence\n",
    "from sklearn.model_selection import train_test_split, GridSearchCV, RandomizedSearchCV\n",
    "from sklearn.linear_model import LogisticRegression\n",
    "from sklearn.dummy import DummyClassifier\n",
    "from sklearn.svm import SVC\n",
    "from sklearn.feature_selection import SequentialFeatureSelector\n",
    "from sklearn.model_selection import train_test_split, GridSearchCV\n",
    "from sklearn.metrics import recall_score\n",
    "from sklearn.tree import DecisionTreeClassifier, export_text\n",
    "from sklearn.pipeline import Pipeline\n",
    "from sklearn.compose import make_column_transformer\n",
    "from sklearn.preprocessing import OneHotEncoder, StandardScaler, PolynomialFeatures"
   ]
  },
  {
   "cell_type": "code",
   "execution_count": 3,
   "metadata": {},
   "outputs": [],
   "source": [
    "df = pd.read_csv('data/bank-additional-full.csv', sep = ';')"
   ]
  },
  {
   "cell_type": "code",
   "execution_count": 4,
   "metadata": {},
   "outputs": [
    {
     "data": {
      "text/html": [
       "<div>\n",
       "<style scoped>\n",
       "    .dataframe tbody tr th:only-of-type {\n",
       "        vertical-align: middle;\n",
       "    }\n",
       "\n",
       "    .dataframe tbody tr th {\n",
       "        vertical-align: top;\n",
       "    }\n",
       "\n",
       "    .dataframe thead th {\n",
       "        text-align: right;\n",
       "    }\n",
       "</style>\n",
       "<table border=\"1\" class=\"dataframe\">\n",
       "  <thead>\n",
       "    <tr style=\"text-align: right;\">\n",
       "      <th></th>\n",
       "      <th>age</th>\n",
       "      <th>job</th>\n",
       "      <th>marital</th>\n",
       "      <th>education</th>\n",
       "      <th>default</th>\n",
       "      <th>housing</th>\n",
       "      <th>loan</th>\n",
       "      <th>contact</th>\n",
       "      <th>month</th>\n",
       "      <th>day_of_week</th>\n",
       "      <th>...</th>\n",
       "      <th>campaign</th>\n",
       "      <th>pdays</th>\n",
       "      <th>previous</th>\n",
       "      <th>poutcome</th>\n",
       "      <th>emp.var.rate</th>\n",
       "      <th>cons.price.idx</th>\n",
       "      <th>cons.conf.idx</th>\n",
       "      <th>euribor3m</th>\n",
       "      <th>nr.employed</th>\n",
       "      <th>y</th>\n",
       "    </tr>\n",
       "  </thead>\n",
       "  <tbody>\n",
       "    <tr>\n",
       "      <th>0</th>\n",
       "      <td>56</td>\n",
       "      <td>housemaid</td>\n",
       "      <td>married</td>\n",
       "      <td>basic.4y</td>\n",
       "      <td>no</td>\n",
       "      <td>no</td>\n",
       "      <td>no</td>\n",
       "      <td>telephone</td>\n",
       "      <td>may</td>\n",
       "      <td>mon</td>\n",
       "      <td>...</td>\n",
       "      <td>1</td>\n",
       "      <td>999</td>\n",
       "      <td>0</td>\n",
       "      <td>nonexistent</td>\n",
       "      <td>1.1</td>\n",
       "      <td>93.994</td>\n",
       "      <td>-36.4</td>\n",
       "      <td>4.857</td>\n",
       "      <td>5191.0</td>\n",
       "      <td>no</td>\n",
       "    </tr>\n",
       "    <tr>\n",
       "      <th>1</th>\n",
       "      <td>57</td>\n",
       "      <td>services</td>\n",
       "      <td>married</td>\n",
       "      <td>high.school</td>\n",
       "      <td>unknown</td>\n",
       "      <td>no</td>\n",
       "      <td>no</td>\n",
       "      <td>telephone</td>\n",
       "      <td>may</td>\n",
       "      <td>mon</td>\n",
       "      <td>...</td>\n",
       "      <td>1</td>\n",
       "      <td>999</td>\n",
       "      <td>0</td>\n",
       "      <td>nonexistent</td>\n",
       "      <td>1.1</td>\n",
       "      <td>93.994</td>\n",
       "      <td>-36.4</td>\n",
       "      <td>4.857</td>\n",
       "      <td>5191.0</td>\n",
       "      <td>no</td>\n",
       "    </tr>\n",
       "    <tr>\n",
       "      <th>2</th>\n",
       "      <td>37</td>\n",
       "      <td>services</td>\n",
       "      <td>married</td>\n",
       "      <td>high.school</td>\n",
       "      <td>no</td>\n",
       "      <td>yes</td>\n",
       "      <td>no</td>\n",
       "      <td>telephone</td>\n",
       "      <td>may</td>\n",
       "      <td>mon</td>\n",
       "      <td>...</td>\n",
       "      <td>1</td>\n",
       "      <td>999</td>\n",
       "      <td>0</td>\n",
       "      <td>nonexistent</td>\n",
       "      <td>1.1</td>\n",
       "      <td>93.994</td>\n",
       "      <td>-36.4</td>\n",
       "      <td>4.857</td>\n",
       "      <td>5191.0</td>\n",
       "      <td>no</td>\n",
       "    </tr>\n",
       "    <tr>\n",
       "      <th>3</th>\n",
       "      <td>40</td>\n",
       "      <td>admin.</td>\n",
       "      <td>married</td>\n",
       "      <td>basic.6y</td>\n",
       "      <td>no</td>\n",
       "      <td>no</td>\n",
       "      <td>no</td>\n",
       "      <td>telephone</td>\n",
       "      <td>may</td>\n",
       "      <td>mon</td>\n",
       "      <td>...</td>\n",
       "      <td>1</td>\n",
       "      <td>999</td>\n",
       "      <td>0</td>\n",
       "      <td>nonexistent</td>\n",
       "      <td>1.1</td>\n",
       "      <td>93.994</td>\n",
       "      <td>-36.4</td>\n",
       "      <td>4.857</td>\n",
       "      <td>5191.0</td>\n",
       "      <td>no</td>\n",
       "    </tr>\n",
       "    <tr>\n",
       "      <th>4</th>\n",
       "      <td>56</td>\n",
       "      <td>services</td>\n",
       "      <td>married</td>\n",
       "      <td>high.school</td>\n",
       "      <td>no</td>\n",
       "      <td>no</td>\n",
       "      <td>yes</td>\n",
       "      <td>telephone</td>\n",
       "      <td>may</td>\n",
       "      <td>mon</td>\n",
       "      <td>...</td>\n",
       "      <td>1</td>\n",
       "      <td>999</td>\n",
       "      <td>0</td>\n",
       "      <td>nonexistent</td>\n",
       "      <td>1.1</td>\n",
       "      <td>93.994</td>\n",
       "      <td>-36.4</td>\n",
       "      <td>4.857</td>\n",
       "      <td>5191.0</td>\n",
       "      <td>no</td>\n",
       "    </tr>\n",
       "  </tbody>\n",
       "</table>\n",
       "<p>5 rows × 21 columns</p>\n",
       "</div>"
      ],
      "text/plain": [
       "   age        job  marital    education  default housing loan    contact  \\\n",
       "0   56  housemaid  married     basic.4y       no      no   no  telephone   \n",
       "1   57   services  married  high.school  unknown      no   no  telephone   \n",
       "2   37   services  married  high.school       no     yes   no  telephone   \n",
       "3   40     admin.  married     basic.6y       no      no   no  telephone   \n",
       "4   56   services  married  high.school       no      no  yes  telephone   \n",
       "\n",
       "  month day_of_week  ...  campaign  pdays  previous     poutcome emp.var.rate  \\\n",
       "0   may         mon  ...         1    999         0  nonexistent          1.1   \n",
       "1   may         mon  ...         1    999         0  nonexistent          1.1   \n",
       "2   may         mon  ...         1    999         0  nonexistent          1.1   \n",
       "3   may         mon  ...         1    999         0  nonexistent          1.1   \n",
       "4   may         mon  ...         1    999         0  nonexistent          1.1   \n",
       "\n",
       "   cons.price.idx  cons.conf.idx  euribor3m  nr.employed   y  \n",
       "0          93.994          -36.4      4.857       5191.0  no  \n",
       "1          93.994          -36.4      4.857       5191.0  no  \n",
       "2          93.994          -36.4      4.857       5191.0  no  \n",
       "3          93.994          -36.4      4.857       5191.0  no  \n",
       "4          93.994          -36.4      4.857       5191.0  no  \n",
       "\n",
       "[5 rows x 21 columns]"
      ]
     },
     "execution_count": 4,
     "metadata": {},
     "output_type": "execute_result"
    }
   ],
   "source": [
    "df.head()"
   ]
  },
  {
   "cell_type": "markdown",
   "metadata": {},
   "source": [
    "### Problem 3: Understanding the Features\n",
    "\n",
    "\n",
    "Examine the data description below, and determine if any of the features are missing values or need to be coerced to a different data type.\n",
    "\n",
    "\n",
    "```\n",
    "Input variables:\n",
    "# bank client data:\n",
    "1 - age (numeric)\n",
    "2 - job : type of job (categorical: 'admin.','blue-collar','entrepreneur','housemaid','management','retired','self-employed','services','student','technician','unemployed','unknown')\n",
    "3 - marital : marital status (categorical: 'divorced','married','single','unknown'; note: 'divorced' means divorced or widowed)\n",
    "4 - education (categorical: 'basic.4y','basic.6y','basic.9y','high.school','illiterate','professional.course','university.degree','unknown')\n",
    "5 - default: has credit in default? (categorical: 'no','yes','unknown')\n",
    "6 - housing: has housing loan? (categorical: 'no','yes','unknown')\n",
    "7 - loan: has personal loan? (categorical: 'no','yes','unknown')\n",
    "# related with the last contact of the current campaign:\n",
    "8 - contact: contact communication type (categorical: 'cellular','telephone')\n",
    "9 - month: last contact month of year (categorical: 'jan', 'feb', 'mar', ..., 'nov', 'dec')\n",
    "10 - day_of_week: last contact day of the week (categorical: 'mon','tue','wed','thu','fri')\n",
    "11 - duration: last contact duration, in seconds (numeric). Important note: this attribute highly affects the output target (e.g., if duration=0 then y='no'). Yet, the duration is not known before a call is performed. Also, after the end of the call y is obviously known. Thus, this input should only be included for benchmark purposes and should be discarded if the intention is to have a realistic predictive model.\n",
    "# other attributes:\n",
    "12 - campaign: number of contacts performed during this campaign and for this client (numeric, includes last contact)\n",
    "13 - pdays: number of days that passed by after the client was last contacted from a previous campaign (numeric; 999 means client was not previously contacted)\n",
    "14 - previous: number of contacts performed before this campaign and for this client (numeric)\n",
    "15 - poutcome: outcome of the previous marketing campaign (categorical: 'failure','nonexistent','success')\n",
    "# social and economic context attributes\n",
    "16 - emp.var.rate: employment variation rate - quarterly indicator (numeric)\n",
    "17 - cons.price.idx: consumer price index - monthly indicator (numeric)\n",
    "18 - cons.conf.idx: consumer confidence index - monthly indicator (numeric)\n",
    "19 - euribor3m: euribor 3 month rate - daily indicator (numeric)\n",
    "20 - nr.employed: number of employees - quarterly indicator (numeric)\n",
    "\n",
    "Output variable (desired target):\n",
    "21 - y - has the client subscribed a term deposit? (binary: 'yes','no')\n",
    "```\n",
    "\n"
   ]
  },
  {
   "cell_type": "code",
   "execution_count": 5,
   "metadata": {},
   "outputs": [],
   "source": [
    "# need to drop duration in order to build a realistic predictive model\n",
    "df = df.drop(columns = 'duration')"
   ]
  },
  {
   "cell_type": "code",
   "execution_count": 6,
   "metadata": {},
   "outputs": [],
   "source": [
    "# map y to numeric\n",
    "df.y = df.y.map({'yes': 1, 'no': 0})"
   ]
  },
  {
   "cell_type": "code",
   "execution_count": 11,
   "metadata": {},
   "outputs": [
    {
     "data": {
      "text/plain": [
       "age               0\n",
       "job               0\n",
       "marital           0\n",
       "education         0\n",
       "default           0\n",
       "housing           0\n",
       "loan              0\n",
       "contact           0\n",
       "month             0\n",
       "day_of_week       0\n",
       "campaign          0\n",
       "pdays             0\n",
       "previous          0\n",
       "poutcome          0\n",
       "emp.var.rate      0\n",
       "cons.price.idx    0\n",
       "cons.conf.idx     0\n",
       "euribor3m         0\n",
       "nr.employed       0\n",
       "y                 0\n",
       "dtype: int64"
      ]
     },
     "execution_count": 11,
     "metadata": {},
     "output_type": "execute_result"
    }
   ],
   "source": [
    "# here we can see there are no nulls. some columns contain 'unknown' as values which I could consider dropping, but I will keep in order\n",
    "# to preserve maximum data \n",
    "df.isna().sum()"
   ]
  },
  {
   "cell_type": "markdown",
   "metadata": {},
   "source": [
    "### Problem 4: Understanding the Task\n",
    "\n",
    "After examining the description and data, your goal now is to clearly state the *Business Objective* of the task.  State the objective below."
   ]
  },
  {
   "cell_type": "markdown",
   "metadata": {},
   "source": [
    "Business Objective: Based on the various information about marketing campaigns for this Portuguese banking institution, we want to build a model to predict whether or not a marketing campaign will lead to a bank term deposit. In order to do this, we will build and assess various models and choose the best one. We will use accuracy as the metric for scoring, because in this case there is no outsized harm for false negatives or false positives, so it's better to be generally accurate. "
   ]
  },
  {
   "cell_type": "code",
   "execution_count": 13,
   "metadata": {},
   "outputs": [
    {
     "name": "stdout",
     "output_type": "stream",
     "text": [
      "<class 'pandas.core.frame.DataFrame'>\n",
      "RangeIndex: 41188 entries, 0 to 41187\n",
      "Data columns (total 20 columns):\n",
      " #   Column          Non-Null Count  Dtype  \n",
      "---  ------          --------------  -----  \n",
      " 0   age             41188 non-null  int64  \n",
      " 1   job             41188 non-null  object \n",
      " 2   marital         41188 non-null  object \n",
      " 3   education       41188 non-null  object \n",
      " 4   default         41188 non-null  object \n",
      " 5   housing         41188 non-null  object \n",
      " 6   loan            41188 non-null  object \n",
      " 7   contact         41188 non-null  object \n",
      " 8   month           41188 non-null  object \n",
      " 9   day_of_week     41188 non-null  object \n",
      " 10  campaign        41188 non-null  int64  \n",
      " 11  pdays           41188 non-null  int64  \n",
      " 12  previous        41188 non-null  int64  \n",
      " 13  poutcome        41188 non-null  object \n",
      " 14  emp.var.rate    41188 non-null  float64\n",
      " 15  cons.price.idx  41188 non-null  float64\n",
      " 16  cons.conf.idx   41188 non-null  float64\n",
      " 17  euribor3m       41188 non-null  float64\n",
      " 18  nr.employed     41188 non-null  float64\n",
      " 19  y               41188 non-null  int64  \n",
      "dtypes: float64(5), int64(5), object(10)\n",
      "memory usage: 6.3+ MB\n"
     ]
    }
   ],
   "source": [
    "df.info()"
   ]
  },
  {
   "cell_type": "code",
   "execution_count": null,
   "metadata": {},
   "outputs": [],
   "source": []
  },
  {
   "cell_type": "markdown",
   "metadata": {},
   "source": [
    "### Problem 5: Engineering Features\n",
    "\n",
    "Now that you understand your business objective, we will build a basic model to get started.  Before we can do this, we must work to encode the data.  Using just the bank information features, prepare the features and target column for modeling with appropriate encoding and transformations."
   ]
  },
  {
   "cell_type": "code",
   "execution_count": 17,
   "metadata": {},
   "outputs": [],
   "source": [
    "# Note, I am not sure why or what is meant by \"just the bank information features\", as all of the features are information about related to \n",
    "# the bank's marketing campaigns, so I am going to assume I can use all of them. \n",
    "X = df.drop(columns = 'y')\n",
    "y = df['y']"
   ]
  },
  {
   "cell_type": "code",
   "execution_count": 25,
   "metadata": {},
   "outputs": [],
   "source": [
    "non_numeric_columns = np.array(X.select_dtypes(include='object').columns.values)\n",
    "transformer = make_column_transformer((OneHotEncoder(), non_numeric_columns), remainder = StandardScaler())\n",
    "X_transformed = transformer.fit_transform(X)\n",
    "X_transformed = pd.DataFrame(X_transformed, columns = transformer.get_feature_names_out())"
   ]
  },
  {
   "cell_type": "markdown",
   "metadata": {},
   "source": [
    "### Problem 6: Train/Test Split\n",
    "\n",
    "With your data prepared, split it into a train and test set."
   ]
  },
  {
   "cell_type": "code",
   "execution_count": 28,
   "metadata": {},
   "outputs": [],
   "source": [
    "X_train, X_test, y_train, y_test = train_test_split(X_transformed, y, test_size = 0.3)"
   ]
  },
  {
   "cell_type": "markdown",
   "metadata": {},
   "source": [
    "### Problem 7: A Baseline Model\n",
    "\n",
    "Before we build our first model, we want to establish a baseline.  What is the baseline performance that our classifier should aim to beat?"
   ]
  },
  {
   "cell_type": "code",
   "execution_count": 32,
   "metadata": {},
   "outputs": [
    {
     "name": "stdout",
     "output_type": "stream",
     "text": [
      "The Dummy Classifier helps us establish a baseline. The train score is 0.886025458707641 and the test score is 0.8904264789188314\n"
     ]
    }
   ],
   "source": [
    "# We can use Dummy Classifier for this\n",
    "dummy = DummyClassifier().fit(X_train, y_train)\n",
    "dummy_train_score = dummy.score(X_train, y_train)\n",
    "dummy_test_score = dummy.score(X_test, y_test)\n",
    "print(\"The Dummy Classifier helps us establish a baseline. The train score is \" + str(dummy_train_score)\n",
    "      + \" and the test score is \" + str(dummy_test_score))"
   ]
  },
  {
   "cell_type": "markdown",
   "metadata": {},
   "source": [
    "### Problem 8: A Simple Model\n",
    "\n",
    "Use Logistic Regression to build a basic model on your data.  "
   ]
  },
  {
   "cell_type": "code",
   "execution_count": 39,
   "metadata": {},
   "outputs": [],
   "source": [
    "# Train & time model\n",
    "lr_start_time = time.time()\n",
    "lr = LogisticRegression().fit(X_train, y_train)\n",
    "lr_end_time = time.time()\n",
    "\n",
    "# Calculate & store metrics\n",
    "lr_train_score = lr.score(X_train, y_train)\n",
    "lr_test_score = lr.score(X_test, y_test)\n",
    "lr_train_time = lr_end_time - lr_start_time"
   ]
  },
  {
   "cell_type": "markdown",
   "metadata": {},
   "source": [
    "### Problem 9: Score the Model\n",
    "\n",
    "What is the accuracy of your model?"
   ]
  },
  {
   "cell_type": "code",
   "execution_count": 40,
   "metadata": {},
   "outputs": [
    {
     "name": "stdout",
     "output_type": "stream",
     "text": [
      "Logistic regression has a train score of 0.8998647289376018 and a test score of 0.9019179412478757\n"
     ]
    }
   ],
   "source": [
    "print(\"Logistic regression has a train score of \" + str(lr_train_score) + \" and a test score of \" + str(lr_test_score))"
   ]
  },
  {
   "cell_type": "markdown",
   "metadata": {},
   "source": [
    "### Problem 10: Model Comparisons\n",
    "\n",
    "Now, we aim to compare the performance of the Logistic Regression model to our KNN algorithm, Decision Tree, and SVM models.  Using the default settings for each of the models, fit and score each.  Also, be sure to compare the fit time of each of the models.  Present your findings in a `DataFrame` similar to that below:\n",
    "\n",
    "| Model | Train Time | Train Accuracy | Test Accuracy |\n",
    "| ----- | ---------- | -------------  | -----------   |\n",
    "|     |    |.     |.     |"
   ]
  },
  {
   "cell_type": "code",
   "execution_count": 41,
   "metadata": {},
   "outputs": [],
   "source": [
    "# KNN \n",
    "\n",
    "# Train & time model\n",
    "knn_start_time = time.time()\n",
    "knn = KNeighborsClassifier().fit(X_train, y_train)\n",
    "knn_end_time = time.time()\n",
    "\n",
    "# Calculate & store metrics\n",
    "knn_train_score = knn.score(X_train, y_train)\n",
    "knn_test_score = knn.score(X_test, y_test)\n",
    "knn_train_time = knn_end_time - knn_start_time"
   ]
  },
  {
   "cell_type": "code",
   "execution_count": 42,
   "metadata": {},
   "outputs": [],
   "source": [
    "# Decision Tree\n",
    "\n",
    "# Train & time model\n",
    "dt_start_time = time.time()\n",
    "dt = DecisionTreeClassifier().fit(X_train, y_train)\n",
    "dt_end_time = time.time()\n",
    "\n",
    "# Calculate & store metrics\n",
    "dt_train_score = dt.score(X_train, y_train)\n",
    "dt_test_score = dt.score(X_test, y_test)\n",
    "dt_train_time = dt_end_time - dt_start_time"
   ]
  },
  {
   "cell_type": "code",
   "execution_count": 43,
   "metadata": {},
   "outputs": [],
   "source": [
    "# SVM\n",
    "\n",
    "# Train & time model\n",
    "svm_start_time = time.time()\n",
    "svm = SVC().fit(X_train, y_train)\n",
    "svm_end_time = time.time()\n",
    "\n",
    "# Calculate & store metrics\n",
    "svm_train_score = svm.score(X_train, y_train)\n",
    "svm_test_score = svm.score(X_test, y_test)\n",
    "svm_train_time = svm_end_time - svm_start_time"
   ]
  },
  {
   "cell_type": "code",
   "execution_count": 47,
   "metadata": {},
   "outputs": [
    {
     "data": {
      "text/html": [
       "<div>\n",
       "<style scoped>\n",
       "    .dataframe tbody tr th:only-of-type {\n",
       "        vertical-align: middle;\n",
       "    }\n",
       "\n",
       "    .dataframe tbody tr th {\n",
       "        vertical-align: top;\n",
       "    }\n",
       "\n",
       "    .dataframe thead th {\n",
       "        text-align: right;\n",
       "    }\n",
       "</style>\n",
       "<table border=\"1\" class=\"dataframe\">\n",
       "  <thead>\n",
       "    <tr style=\"text-align: right;\">\n",
       "      <th></th>\n",
       "      <th>Train Time</th>\n",
       "      <th>Train Accuracy</th>\n",
       "      <th>Test Accuracy</th>\n",
       "    </tr>\n",
       "    <tr>\n",
       "      <th>Model</th>\n",
       "      <th></th>\n",
       "      <th></th>\n",
       "      <th></th>\n",
       "    </tr>\n",
       "  </thead>\n",
       "  <tbody>\n",
       "    <tr>\n",
       "      <th>Logistic Regression</th>\n",
       "      <td>0.230</td>\n",
       "      <td>0.900</td>\n",
       "      <td>0.902</td>\n",
       "    </tr>\n",
       "    <tr>\n",
       "      <th>K Neighbors</th>\n",
       "      <td>0.006</td>\n",
       "      <td>0.912</td>\n",
       "      <td>0.894</td>\n",
       "    </tr>\n",
       "    <tr>\n",
       "      <th>Decision Tree</th>\n",
       "      <td>0.160</td>\n",
       "      <td>0.996</td>\n",
       "      <td>0.837</td>\n",
       "    </tr>\n",
       "    <tr>\n",
       "      <th>SVM</th>\n",
       "      <td>23.250</td>\n",
       "      <td>0.905</td>\n",
       "      <td>0.901</td>\n",
       "    </tr>\n",
       "  </tbody>\n",
       "</table>\n",
       "</div>"
      ],
      "text/plain": [
       "                     Train Time  Train Accuracy  Test Accuracy\n",
       "Model                                                         \n",
       "Logistic Regression       0.230           0.900          0.902\n",
       "K Neighbors               0.006           0.912          0.894\n",
       "Decision Tree             0.160           0.996          0.837\n",
       "SVM                      23.250           0.905          0.901"
      ]
     },
     "execution_count": 47,
     "metadata": {},
     "output_type": "execute_result"
    }
   ],
   "source": [
    "# Build DF\n",
    "\n",
    "results_df = pd.DataFrame()\n",
    "results_df['Model'] = ['Logistic Regression', 'K Neighbors', 'Decision Tree', 'SVM']\n",
    "results_df['Train Time'] = [round(lr_train_time, 3), round(knn_train_time, 3), round(dt_train_time, 3), round(svm_train_time, 3)]\n",
    "results_df['Train Accuracy'] = [round(lr_train_score, 3), round(knn_train_score, 3), round(dt_train_score, 3), round(svm_train_score, 3)]\n",
    "results_df['Test Accuracy'] =  [round(lr_test_score, 3), round(knn_test_score, 3), round(dt_test_score, 3), round(svm_test_score, 3)]\n",
    "results_df = results_df.set_index('Model')\n",
    "results_df"
   ]
  },
  {
   "cell_type": "markdown",
   "metadata": {},
   "source": [
    "### Problem 11: Improving the Model\n",
    "\n",
    "Now that we have some basic models on the board, we want to try to improve these.  Below, we list a few things to explore in this pursuit.\n",
    "\n",
    "- More feature engineering and exploration.  For example, should we keep the gender feature?  Why or why not?\n",
    "- Hyperparameter tuning and grid search.  All of our models have additional hyperparameters to tune and explore.  For example the number of neighbors in KNN or the maximum depth of a Decision Tree.  \n",
    "- Adjust your performance metric"
   ]
  },
  {
   "cell_type": "code",
   "execution_count": 87,
   "metadata": {},
   "outputs": [],
   "source": [
    "# First I'll play around with feature engineering by using sequential feature selection to get down to just 5 top features\n",
    "results_2 = pd.DataFrame()"
   ]
  },
  {
   "cell_type": "code",
   "execution_count": 88,
   "metadata": {},
   "outputs": [
    {
     "data": {
      "text/html": [
       "<div>\n",
       "<style scoped>\n",
       "    .dataframe tbody tr th:only-of-type {\n",
       "        vertical-align: middle;\n",
       "    }\n",
       "\n",
       "    .dataframe tbody tr th {\n",
       "        vertical-align: top;\n",
       "    }\n",
       "\n",
       "    .dataframe thead th {\n",
       "        text-align: right;\n",
       "    }\n",
       "</style>\n",
       "<table border=\"1\" class=\"dataframe\">\n",
       "  <thead>\n",
       "    <tr style=\"text-align: right;\">\n",
       "      <th></th>\n",
       "      <th>Model</th>\n",
       "      <th>Train Time</th>\n",
       "      <th>Train Accuracy</th>\n",
       "      <th>Test Accuracy</th>\n",
       "    </tr>\n",
       "  </thead>\n",
       "  <tbody>\n",
       "    <tr>\n",
       "      <th>0</th>\n",
       "      <td>Logistic Regression</td>\n",
       "      <td>18.642746</td>\n",
       "      <td>0.899657</td>\n",
       "      <td>0.899328</td>\n",
       "    </tr>\n",
       "  </tbody>\n",
       "</table>\n",
       "</div>"
      ],
      "text/plain": [
       "                 Model  Train Time  Train Accuracy  Test Accuracy\n",
       "0  Logistic Regression   18.642746        0.899657       0.899328"
      ]
     },
     "execution_count": 88,
     "metadata": {},
     "output_type": "execute_result"
    }
   ],
   "source": [
    "# Redo logistic regression with feature selection\n",
    "\n",
    "# Train & time model\n",
    "lr_pipe_start_time = time.time()\n",
    "lr_pipe = Pipeline([\n",
    "    ('selector', SequentialFeatureSelector(LogisticRegression(), n_features_to_select = 5)),\n",
    "    ('model', LogisticRegression())])\n",
    "lr_pipe.fit(X_train, y_train)\n",
    "lr_pipe_end_time = time.time()\n",
    "\n",
    "# Calculate & store metrics\n",
    "results_2['Model'] = ['Logistic Regression']\n",
    "results_2['Train Time'] = [lr_pipe_end_time - lr_pipe_start_time]\n",
    "results_2['Train Accuracy'] = [lr_pipe.score(X_train, y_train)]\n",
    "results_2['Test Accuracy'] = [lr_pipe.score(X_test, y_test)]"
   ]
  },
  {
   "cell_type": "code",
   "execution_count": 89,
   "metadata": {},
   "outputs": [],
   "source": [
    "# Redo KNN with feature selection \n",
    "\n",
    "# Train & time model\n",
    "knn_pipe_start_time = time.time()\n",
    "knn_pipe = Pipeline([\n",
    "    ('selector', SequentialFeatureSelector(LogisticRegression(), n_features_to_select = 5)),\n",
    "    ('model', KNeighborsClassifier())])\n",
    "knn_pipe.fit(X_train, y_train)\n",
    "knn_pipe_end_time = time.time()\n",
    "\n",
    "# Calculate & store metrics\n",
    "results_2.loc[1] = ['K Neighbors', (knn_pipe_end_time - knn_pipe_start_time), knn_pipe.score(X_train, y_train),\n",
    "                     knn_pipe.score(X_test, y_test)]\n"
   ]
  },
  {
   "cell_type": "code",
   "execution_count": 90,
   "metadata": {},
   "outputs": [],
   "source": [
    "# Redo Decision Tree with feature Selection \n",
    "# Train & time model\n",
    "dt_pipe_start_time = time.time()\n",
    "dt_pipe = Pipeline([\n",
    "    ('selector', SequentialFeatureSelector(LogisticRegression(), n_features_to_select = 5)),\n",
    "    ('model',DecisionTreeClassifier())])\n",
    "dt_pipe.fit(X_train, y_train)\n",
    "dt_pipe_end_time = time.time()\n",
    "\n",
    "# Calculate & store metrics\n",
    "results_2.loc[2] = ['Decision Tree', (dt_pipe_end_time - dt_pipe_start_time), dt_pipe.score(X_train, y_train),\n",
    "                     dt_pipe.score(X_test, y_test)]"
   ]
  },
  {
   "cell_type": "code",
   "execution_count": 92,
   "metadata": {},
   "outputs": [],
   "source": [
    "# Redo SVM with feature selection \n",
    "\n",
    "# Train & time model\n",
    "svm_pipe_start_time = time.time()\n",
    "svm_pipe = Pipeline([\n",
    "    ('selector', SequentialFeatureSelector(LogisticRegression(), n_features_to_select = 5)),\n",
    "    ('model',SVC())])\n",
    "svm_pipe.fit(X_train, y_train)\n",
    "svm_pipe_end_time = time.time()\n",
    "\n",
    "# Calculate & store metrics\n",
    "results_2.loc[3] = ['SVM', (svm_pipe_end_time - svm_pipe_start_time), svm_pipe.score(X_train, y_train),\n",
    "                     svm_pipe.score(X_test, y_test)]"
   ]
  },
  {
   "cell_type": "code",
   "execution_count": 94,
   "metadata": {},
   "outputs": [
    {
     "data": {
      "text/html": [
       "<div>\n",
       "<style scoped>\n",
       "    .dataframe tbody tr th:only-of-type {\n",
       "        vertical-align: middle;\n",
       "    }\n",
       "\n",
       "    .dataframe tbody tr th {\n",
       "        vertical-align: top;\n",
       "    }\n",
       "\n",
       "    .dataframe thead th {\n",
       "        text-align: right;\n",
       "    }\n",
       "</style>\n",
       "<table border=\"1\" class=\"dataframe\">\n",
       "  <thead>\n",
       "    <tr style=\"text-align: right;\">\n",
       "      <th></th>\n",
       "      <th>Train Time</th>\n",
       "      <th>Train Accuracy</th>\n",
       "      <th>Test Accuracy</th>\n",
       "    </tr>\n",
       "    <tr>\n",
       "      <th>Model</th>\n",
       "      <th></th>\n",
       "      <th></th>\n",
       "      <th></th>\n",
       "    </tr>\n",
       "  </thead>\n",
       "  <tbody>\n",
       "    <tr>\n",
       "      <th>Logistic Regression</th>\n",
       "      <td>18.642746</td>\n",
       "      <td>0.899657</td>\n",
       "      <td>0.899328</td>\n",
       "    </tr>\n",
       "    <tr>\n",
       "      <th>K Neighbors</th>\n",
       "      <td>18.577167</td>\n",
       "      <td>0.895356</td>\n",
       "      <td>0.895201</td>\n",
       "    </tr>\n",
       "    <tr>\n",
       "      <th>Decision Tree</th>\n",
       "      <td>22.741363</td>\n",
       "      <td>0.901287</td>\n",
       "      <td>0.898762</td>\n",
       "    </tr>\n",
       "    <tr>\n",
       "      <th>SVM</th>\n",
       "      <td>21.391586</td>\n",
       "      <td>0.899483</td>\n",
       "      <td>0.900138</td>\n",
       "    </tr>\n",
       "  </tbody>\n",
       "</table>\n",
       "</div>"
      ],
      "text/plain": [
       "                     Train Time  Train Accuracy  Test Accuracy\n",
       "Model                                                         \n",
       "Logistic Regression   18.642746        0.899657       0.899328\n",
       "K Neighbors           18.577167        0.895356       0.895201\n",
       "Decision Tree         22.741363        0.901287       0.898762\n",
       "SVM                   21.391586        0.899483       0.900138"
      ]
     },
     "execution_count": 94,
     "metadata": {},
     "output_type": "execute_result"
    }
   ],
   "source": [
    "results_2 = results_2.set_index('Model')\n",
    "results_2"
   ]
  },
  {
   "cell_type": "code",
   "execution_count": 97,
   "metadata": {},
   "outputs": [],
   "source": [
    "# Next I'll use GridSearch to optimize hyperparameters \n",
    "results_3 = pd.DataFrame()"
   ]
  },
  {
   "cell_type": "code",
   "execution_count": 98,
   "metadata": {},
   "outputs": [],
   "source": [
    "# First LogisticRegression\n",
    "\n",
    "# Train & time model \n",
    "lr_params = {'penalty' : ['l1', 'l2', 'elasticnet', None]}\n",
    "lr_grid_start_time = time.time()\n",
    "lr_grid = GridSearchCV(LogisticRegression(), param_grid = lr_params)\n",
    "lr_grid.fit(X_train, y_train)\n",
    "lr_grid_end_time = time.time()\n",
    "\n",
    "# Calculate & store metrics\n",
    "results_3['Model'] = ['Logistic Regression']\n",
    "results_3['Train Time'] = [lr_grid_end_time - lr_grid_start_time]\n",
    "results_3['Train Accuracy'] = [lr_grid.score(X_train, y_train)]\n",
    "results_3['Test Accuracy'] = [lr_grid.score(X_test, y_test)]"
   ]
  },
  {
   "cell_type": "code",
   "execution_count": 101,
   "metadata": {},
   "outputs": [],
   "source": [
    "# Then KNN\n",
    "\n",
    "# Train & time model\n",
    "knn_params = {'n_neighbors': [1, 2, 3, 4, 5], 'weights' : ['uniform', 'distance']}\n",
    "knn_grid_start_time = time.time()\n",
    "knn_grid = GridSearchCV(KNeighborsClassifier(), param_grid = knn_params)\n",
    "knn_grid.fit(X_train, y_train)\n",
    "knn_grid_end_time = time.time()\n",
    "\n",
    "# Calculate and store metrics \n",
    "results_3.loc[1] = ['K Neighbors', (knn_grid_end_time - knn_grid_start_time), knn_grid.score(X_train, y_train),\n",
    "                     knn_grid.score(X_test, y_test)]"
   ]
  },
  {
   "cell_type": "code",
   "execution_count": 105,
   "metadata": {},
   "outputs": [],
   "source": [
    "# Decision Tree\n",
    "dt_params = {'max_depth': [1, 2, 3, 4, 5]}\n",
    "\n",
    "# Train & time model\n",
    "dt_grid_start_time = time.time()\n",
    "dt_grid = GridSearchCV(DecisionTreeClassifier(), param_grid = dt_params)\n",
    "dt_grid.fit(X_train, y_train)\n",
    "dt_grid_end_time = time.time()\n",
    "\n",
    "# Calculate and store metrics\n",
    "results_3.loc[2] = ['Decision Tree', (dt_grid_end_time - dt_grid_start_time), dt_grid.score(X_train, y_train),\n",
    "                     dt_grid.score(X_test, y_test)]"
   ]
  },
  {
   "cell_type": "code",
   "execution_count": 108,
   "metadata": {},
   "outputs": [],
   "source": [
    "# SVM - I have to comment this out, it's way too slow to run so this is not a feasible strategy\n",
    "# svc_params = {'kernel': ['rbf', 'poly', 'linear', 'sigmoid'], 'gamma': [0.1, 1.0, 10.0, 100.0]}\n",
    "\n",
    "# # Train & time model\n",
    "# svc_grid_start_time = time.time()\n",
    "# svc_grid = GridSearchCV(SVC(), param_grid = svc_params)\n",
    "# svc_grid.fit(X_train, y_train)\n",
    "# svc_grid_end_time = time.time()\n",
    "\n",
    "# # Calculate and store metrics \n",
    "# results_3.loc[3] = ['SVM', (svc_grid_end_time - svc_grid_start_time), svc_grid.score(X_train, y_train),\n",
    "#                      svc_grid.score(X_test, y_test)]"
   ]
  },
  {
   "cell_type": "code",
   "execution_count": 110,
   "metadata": {},
   "outputs": [
    {
     "data": {
      "text/html": [
       "<div>\n",
       "<style scoped>\n",
       "    .dataframe tbody tr th:only-of-type {\n",
       "        vertical-align: middle;\n",
       "    }\n",
       "\n",
       "    .dataframe tbody tr th {\n",
       "        vertical-align: top;\n",
       "    }\n",
       "\n",
       "    .dataframe thead th {\n",
       "        text-align: right;\n",
       "    }\n",
       "</style>\n",
       "<table border=\"1\" class=\"dataframe\">\n",
       "  <thead>\n",
       "    <tr style=\"text-align: right;\">\n",
       "      <th></th>\n",
       "      <th>Train Time</th>\n",
       "      <th>Train Accuracy</th>\n",
       "      <th>Test Accuracy</th>\n",
       "    </tr>\n",
       "    <tr>\n",
       "      <th>Model</th>\n",
       "      <th></th>\n",
       "      <th></th>\n",
       "      <th></th>\n",
       "    </tr>\n",
       "  </thead>\n",
       "  <tbody>\n",
       "    <tr>\n",
       "      <th>Logistic Regression</th>\n",
       "      <td>1.930141</td>\n",
       "      <td>0.899691</td>\n",
       "      <td>0.902080</td>\n",
       "    </tr>\n",
       "    <tr>\n",
       "      <th>K Neighbors</th>\n",
       "      <td>7.668330</td>\n",
       "      <td>0.913669</td>\n",
       "      <td>0.896091</td>\n",
       "    </tr>\n",
       "    <tr>\n",
       "      <th>Decision Tree</th>\n",
       "      <td>0.636424</td>\n",
       "      <td>0.899830</td>\n",
       "      <td>0.900057</td>\n",
       "    </tr>\n",
       "  </tbody>\n",
       "</table>\n",
       "</div>"
      ],
      "text/plain": [
       "                     Train Time  Train Accuracy  Test Accuracy\n",
       "Model                                                         \n",
       "Logistic Regression    1.930141        0.899691       0.902080\n",
       "K Neighbors            7.668330        0.913669       0.896091\n",
       "Decision Tree          0.636424        0.899830       0.900057"
      ]
     },
     "execution_count": 110,
     "metadata": {},
     "output_type": "execute_result"
    }
   ],
   "source": [
    "results_3 = results_3.set_index('Model')\n",
    "results_3"
   ]
  },
  {
   "cell_type": "code",
   "execution_count": 111,
   "metadata": {},
   "outputs": [],
   "source": [
    "# Lastly, we will play around with adjusting our scoring. You could also argue that recall is a good metric here because\n",
    "# for a marketing campaign, we want a model that is able to find all of the positive cases, because a false positive is much better\n",
    "# than a false negative so we can actually make the most attempts at customers who will convert. \n",
    "results_4 = pd.DataFrame()"
   ]
  },
  {
   "cell_type": "code",
   "execution_count": 115,
   "metadata": {},
   "outputs": [],
   "source": [
    "# Get scores\n",
    "lr_train_recall = recall_score(y_train, lr.predict(X_train))\n",
    "lr_test_recall = recall_score(y_test, lr.predict(X_test))\n",
    "knn_train_recall = recall_score(y_train, knn.predict(X_train))\n",
    "knn_test_recall = recall_score(y_test, knn.predict(X_test))\n",
    "dt_train_recall = recall_score(y_train, dt.predict(X_train))\n",
    "dt_test_recall = recall_score(y_test, dt.predict(X_test))\n",
    "svm_train_recall = recall_score(y_train, svm.predict(X_train))\n",
    "svm_test_recall = recall_score(y_test, svm.predict(X_test))"
   ]
  },
  {
   "cell_type": "code",
   "execution_count": 117,
   "metadata": {},
   "outputs": [],
   "source": [
    "# Store in DF \n",
    "results_4['Model'] = ['Logistic Regression', 'K Neighbors', 'Decision Tree', 'SVM']\n",
    "results_4['Train Time'] = [round(lr_train_time, 3), round(knn_train_time, 3), round(dt_train_time, 3), round(svm_train_time, 3)]\n",
    "results_4['Train Recall'] = [round(lr_train_recall, 3), round(knn_train_recall, 3), round(dt_train_recall, 3), round(svm_train_recall, 3)]\n",
    "results_4['Test Recall'] = [round(lr_test_recall, 3), round(knn_test_recall, 3), round(dt_test_recall, 3), round(svm_test_recall, 3)]"
   ]
  },
  {
   "cell_type": "code",
   "execution_count": 119,
   "metadata": {},
   "outputs": [
    {
     "data": {
      "text/html": [
       "<div>\n",
       "<style scoped>\n",
       "    .dataframe tbody tr th:only-of-type {\n",
       "        vertical-align: middle;\n",
       "    }\n",
       "\n",
       "    .dataframe tbody tr th {\n",
       "        vertical-align: top;\n",
       "    }\n",
       "\n",
       "    .dataframe thead th {\n",
       "        text-align: right;\n",
       "    }\n",
       "</style>\n",
       "<table border=\"1\" class=\"dataframe\">\n",
       "  <thead>\n",
       "    <tr style=\"text-align: right;\">\n",
       "      <th></th>\n",
       "      <th>Train Time</th>\n",
       "      <th>Train Recall</th>\n",
       "      <th>Test Recall</th>\n",
       "    </tr>\n",
       "    <tr>\n",
       "      <th>Model</th>\n",
       "      <th></th>\n",
       "      <th></th>\n",
       "      <th></th>\n",
       "    </tr>\n",
       "  </thead>\n",
       "  <tbody>\n",
       "    <tr>\n",
       "      <th>Logistic Regression</th>\n",
       "      <td>0.230</td>\n",
       "      <td>0.233</td>\n",
       "      <td>0.229</td>\n",
       "    </tr>\n",
       "    <tr>\n",
       "      <th>K Neighbors</th>\n",
       "      <td>0.006</td>\n",
       "      <td>0.397</td>\n",
       "      <td>0.285</td>\n",
       "    </tr>\n",
       "    <tr>\n",
       "      <th>Decision Tree</th>\n",
       "      <td>0.160</td>\n",
       "      <td>0.965</td>\n",
       "      <td>0.338</td>\n",
       "    </tr>\n",
       "    <tr>\n",
       "      <th>SVM</th>\n",
       "      <td>23.250</td>\n",
       "      <td>0.267</td>\n",
       "      <td>0.242</td>\n",
       "    </tr>\n",
       "  </tbody>\n",
       "</table>\n",
       "</div>"
      ],
      "text/plain": [
       "                     Train Time  Train Recall  Test Recall\n",
       "Model                                                     \n",
       "Logistic Regression       0.230         0.233        0.229\n",
       "K Neighbors               0.006         0.397        0.285\n",
       "Decision Tree             0.160         0.965        0.338\n",
       "SVM                      23.250         0.267        0.242"
      ]
     },
     "execution_count": 119,
     "metadata": {},
     "output_type": "execute_result"
    }
   ],
   "source": [
    "results_4 = results_4.set_index('Model')\n",
    "results_4"
   ]
  }
 ],
 "metadata": {
  "kernelspec": {
   "display_name": "Python 3 (ipykernel)",
   "language": "python",
   "name": "python3"
  },
  "language_info": {
   "codemirror_mode": {
    "name": "ipython",
    "version": 3
   },
   "file_extension": ".py",
   "mimetype": "text/x-python",
   "name": "python",
   "nbconvert_exporter": "python",
   "pygments_lexer": "ipython3",
   "version": "3.11.7"
  },
  "widgets": {
   "application/vnd.jupyter.widget-state+json": {
    "state": {},
    "version_major": 2,
    "version_minor": 0
   }
  }
 },
 "nbformat": 4,
 "nbformat_minor": 4
}
